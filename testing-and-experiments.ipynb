{
 "cells": [
  {
   "cell_type": "code",
   "execution_count": 1,
   "metadata": {},
   "outputs": [
    {
     "name": "stdout",
     "output_type": "stream",
     "text": [
      "Sorry, I encountered an error.\n"
     ]
    }
   ],
   "source": [
    "from openai import AzureOpenAI\n",
    "from flask import Flask, request, jsonify\n",
    "import json\n",
    "\n",
    "user_message = \"Hey there, how are you?\"\n",
    "try:\n",
    "\n",
    "    # https://learn.microsoft.com/en-us/azure/ai-services/openai/reference#rest-api-versioning\n",
    "    client = AzureOpenAI(\n",
    "        # if no key specified gets the API Key from environment variable AZURE_OPENAI_API_KEY\n",
    "        api_key = \"a7c02d6cccc44acaa1207229de52ef26\",\n",
    "        api_version=\"2024-08-01-preview\",\n",
    "        # https://learn.microsoft.com/en-us/azure/cognitive-services/openai/how-to/create-resource?pivots=web-portal#create-a-resource\n",
    "        azure_endpoint=\"https://open-ai-service-class.openai.azure.com/\",\n",
    "    )\n",
    "\n",
    "\n",
    "    completion = client.chat.completions.create(\n",
    "    model=\"gpt-4o-mini\",  # e.g. gpt-35-instant\n",
    "    messages=[\n",
    "        {\n",
    "            \"role\": \"user\",\n",
    "            \"content\": user_message,\n",
    "        },\n",
    "    ],\n",
    "    )\n",
    "    print(completion.choices[0].text.strip())\n",
    "except Exception as e:\n",
    "    print(\"Sorry, I encountered an error.\")"
   ]
  },
  {
   "cell_type": "code",
   "execution_count": 5,
   "metadata": {},
   "outputs": [
    {
     "ename": "NameError",
     "evalue": "name 'AzureOpenAI' is not defined",
     "output_type": "error",
     "traceback": [
      "\u001b[1;31m---------------------------------------------------------------------------\u001b[0m",
      "\u001b[1;31mNameError\u001b[0m                                 Traceback (most recent call last)",
      "Cell \u001b[1;32mIn[5], line 2\u001b[0m\n\u001b[0;32m      1\u001b[0m \u001b[38;5;66;03m# https://learn.microsoft.com/en-us/azure/ai-services/openai/reference#rest-api-versioning\u001b[39;00m\n\u001b[1;32m----> 2\u001b[0m client \u001b[38;5;241m=\u001b[39m \u001b[43mAzureOpenAI\u001b[49m(\n\u001b[0;32m      3\u001b[0m     \u001b[38;5;66;03m# if no key specified gets the API Key from environment variable AZURE_OPENAI_API_KEY\u001b[39;00m\n\u001b[0;32m      4\u001b[0m     api_key \u001b[38;5;241m=\u001b[39m \u001b[38;5;124m\"\u001b[39m\u001b[38;5;124ma7c02d6cccc44acaa1207229de52ef26\u001b[39m\u001b[38;5;124m\"\u001b[39m,\n\u001b[0;32m      5\u001b[0m     api_version\u001b[38;5;241m=\u001b[39m\u001b[38;5;124m\"\u001b[39m\u001b[38;5;124m2024-08-01-preview\u001b[39m\u001b[38;5;124m\"\u001b[39m,\n\u001b[0;32m      6\u001b[0m     \u001b[38;5;66;03m# https://learn.microsoft.com/en-us/azure/cognitive-services/openai/how-to/create-resource?pivots=web-portal#create-a-resource\u001b[39;00m\n\u001b[0;32m      7\u001b[0m     azure_endpoint\u001b[38;5;241m=\u001b[39m\u001b[38;5;124m\"\u001b[39m\u001b[38;5;124mhttps://open-ai-service-class.openai.azure.com/\u001b[39m\u001b[38;5;124m\"\u001b[39m,\n\u001b[0;32m      8\u001b[0m )\n\u001b[0;32m     11\u001b[0m completion \u001b[38;5;241m=\u001b[39m client\u001b[38;5;241m.\u001b[39mchat\u001b[38;5;241m.\u001b[39mcompletions\u001b[38;5;241m.\u001b[39mcreate(\n\u001b[0;32m     12\u001b[0m model\u001b[38;5;241m=\u001b[39m\u001b[38;5;124m\"\u001b[39m\u001b[38;5;124mgpt-4o-mini\u001b[39m\u001b[38;5;124m\"\u001b[39m,  \u001b[38;5;66;03m# e.g. gpt-35-instant\u001b[39;00m\n\u001b[0;32m     13\u001b[0m messages\u001b[38;5;241m=\u001b[39m[\n\u001b[1;32m   (...)\u001b[0m\n\u001b[0;32m     18\u001b[0m ],\n\u001b[0;32m     19\u001b[0m )\n\u001b[0;32m     20\u001b[0m \u001b[38;5;28mprint\u001b[39m(completion\u001b[38;5;241m.\u001b[39mchoices[\u001b[38;5;241m0\u001b[39m]\u001b[38;5;241m.\u001b[39mmessage\u001b[38;5;241m.\u001b[39mcontent)\n",
      "\u001b[1;31mNameError\u001b[0m: name 'AzureOpenAI' is not defined"
     ]
    }
   ],
   "source": [
    "# https://learn.microsoft.com/en-us/azure/ai-services/openai/reference#rest-api-versioning\n",
    "client = AzureOpenAI(\n",
    "    # if no key specified gets the API Key from environment variable AZURE_OPENAI_API_KEY\n",
    "    api_key = \"a7c02d6cccc44acaa1207229de52ef26\",\n",
    "    api_version=\"2024-08-01-preview\",\n",
    "    # https://learn.microsoft.com/en-us/azure/cognitive-services/openai/how-to/create-resource?pivots=web-portal#create-a-resource\n",
    "    azure_endpoint=\"https://open-ai-service-class.openai.azure.com/\",\n",
    ")\n",
    "\n",
    "\n",
    "completion = client.chat.completions.create(\n",
    "model=\"gpt-4o-mini\",  # e.g. gpt-35-instant\n",
    "messages=[\n",
    "    {\n",
    "        \"role\": \"user\",\n",
    "        \"content\": user_message,\n",
    "    },\n",
    "],\n",
    ")\n",
    "print(completion.choices[0].message.content)"
   ]
  },
  {
   "cell_type": "code",
   "execution_count": 3,
   "metadata": {},
   "outputs": [
    {
     "name": "stdout",
     "output_type": "stream",
     "text": [
      "Failed to get a valid response. Status code: 503\n",
      "Response content: <div style=\"display: block; margin: auto;  width: 600px; height: 500px; text-align: center; font-family: 'Courier', cursive, sans-serif;\"><h1 style=\"color: 747474\">:( Application Error</h1><p style=\"color:#666\">If you are the application administrator, you can access the <a style=\"color: grey\"href=\"https://daiol-chatbot-c7c6bhf0cghgdtdj.scm.canadacentral-01.azurewebsites.net/detectors\">diagnostic resources</a>.</div>\n",
      "\n"
     ]
    }
   ],
   "source": [
    "import requests\n",
    "\n",
    "# Replace with your actual Azure App Service URL\n",
    "url = \"https://daiol-chatbot-c7c6bhf0cghgdtdj.canadacentral-01.azurewebsites.net/api/chat\"\n",
    "\n",
    "# Sample message to send to the chatbot\n",
    "payload = {\n",
    "    \"message\": \"Explain to me personality theory in a few words\"\n",
    "}\n",
    "\n",
    "# Make a POST request to the API\n",
    "try:\n",
    "    response = requests.post(url, json=payload)\n",
    "\n",
    "    # Check if the request was successful\n",
    "    if response.status_code == 200:\n",
    "        print(\"Response from chatbot:\", response.json()[\"response\"])\n",
    "    else:\n",
    "        print(f\"Failed to get a valid response. Status code: {response.status_code}\")\n",
    "        print(\"Response content:\", response.text)\n",
    "        \n",
    "except Exception as e:\n",
    "    print(\"An error occurred:\", e)"
   ]
  },
  {
   "cell_type": "markdown",
   "metadata": {},
   "source": [
    "Cool learning: I need to add history to the chatbot - it asked me a questions about kindergarten cop when I submitted \"Who is your daddy and what does he do\". I think its neat but makes sense"
   ]
  },
  {
   "cell_type": "markdown",
   "metadata": {},
   "source": [
    "## Oct 19\n",
    "\n",
    "Finally got a front end working for my webapp, i can deploy the chatbot on my app service account. now I should be able to embed the htmls."
   ]
  },
  {
   "cell_type": "markdown",
   "metadata": {},
   "source": []
  }
 ],
 "metadata": {
  "kernelspec": {
   "display_name": "venv",
   "language": "python",
   "name": "python3"
  },
  "language_info": {
   "codemirror_mode": {
    "name": "ipython",
    "version": 3
   },
   "file_extension": ".py",
   "mimetype": "text/x-python",
   "name": "python",
   "nbconvert_exporter": "python",
   "pygments_lexer": "ipython3",
   "version": "3.12.1"
  }
 },
 "nbformat": 4,
 "nbformat_minor": 2
}
