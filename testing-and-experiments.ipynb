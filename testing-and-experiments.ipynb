{
 "cells": [
  {
   "cell_type": "code",
   "execution_count": 10,
   "metadata": {},
   "outputs": [
    {
     "name": "stdout",
     "output_type": "stream",
     "text": [
      "Sorry, I encountered an error.\n"
     ]
    }
   ],
   "source": [
    "from openai import AzureOpenAI\n",
    "from flask import Flask, request, jsonify\n",
    "import json\n",
    "\n",
    "user_message = \"Hey there, how are you?\"\n",
    "try:\n",
    "\n",
    "    # https://learn.microsoft.com/en-us/azure/ai-services/openai/reference#rest-api-versioning\n",
    "    client = AzureOpenAI(\n",
    "        # if no key specified gets the API Key from environment variable AZURE_OPENAI_API_KEY\n",
    "        api_key = \"a7c02d6cccc44acaa1207229de52ef26\",\n",
    "        api_version=\"2024-08-01-preview\",\n",
    "        # https://learn.microsoft.com/en-us/azure/cognitive-services/openai/how-to/create-resource?pivots=web-portal#create-a-resource\n",
    "        azure_endpoint=\"https://open-ai-service-class.openai.azure.com/\",\n",
    "    )\n",
    "\n",
    "\n",
    "    completion = client.chat.completions.create(\n",
    "    model=\"gpt-4o-mini\",  # e.g. gpt-35-instant\n",
    "    messages=[\n",
    "        {\n",
    "            \"role\": \"user\",\n",
    "            \"content\": user_message,\n",
    "        },\n",
    "    ],\n",
    "    )\n",
    "    print(completion.choices[0].text.strip())\n",
    "except Exception as e:\n",
    "    print(\"Sorry, I encountered an error.\")"
   ]
  },
  {
   "cell_type": "code",
   "execution_count": 16,
   "metadata": {},
   "outputs": [
    {
     "name": "stdout",
     "output_type": "stream",
     "text": [
      "I'm doing well, thank you! How about you?\n"
     ]
    }
   ],
   "source": [
    "# https://learn.microsoft.com/en-us/azure/ai-services/openai/reference#rest-api-versioning\n",
    "client = AzureOpenAI(\n",
    "    # if no key specified gets the API Key from environment variable AZURE_OPENAI_API_KEY\n",
    "    api_key = \"a7c02d6cccc44acaa1207229de52ef26\",\n",
    "    api_version=\"2024-08-01-preview\",\n",
    "    # https://learn.microsoft.com/en-us/azure/cognitive-services/openai/how-to/create-resource?pivots=web-portal#create-a-resource\n",
    "    azure_endpoint=\"https://open-ai-service-class.openai.azure.com/\",\n",
    ")\n",
    "\n",
    "\n",
    "completion = client.chat.completions.create(\n",
    "model=\"gpt-4o-mini\",  # e.g. gpt-35-instant\n",
    "messages=[\n",
    "    {\n",
    "        \"role\": \"user\",\n",
    "        \"content\": user_message,\n",
    "    },\n",
    "],\n",
    ")\n",
    "print(completion.choices[0].message.content)"
   ]
  },
  {
   "cell_type": "code",
   "execution_count": 4,
   "metadata": {},
   "outputs": [
    {
     "name": "stdout",
     "output_type": "stream",
     "text": [
      "Response from chatbot: Sorry, I encountered an error.\n"
     ]
    }
   ],
   "source": [
    "import requests\n",
    "\n",
    "# Replace with your actual Azure App Service URL\n",
    "url = \"https://daiol-chatbot-c7c6bhf0cghgdtdj.canadacentral-01.azurewebsites.net//api/chat\"\n",
    "\n",
    "# Sample message to send to the chatbot\n",
    "payload = {\n",
    "    \"message\": \"what is your name\"\n",
    "}\n",
    "\n",
    "# Make a POST request to the API\n",
    "try:\n",
    "    response = requests.post(url, json=payload)\n",
    "\n",
    "    # Check if the request was successful\n",
    "    if response.status_code == 200:\n",
    "        print(\"Response from chatbot:\", response.json()[\"response\"])\n",
    "    else:\n",
    "        print(f\"Failed to get a valid response. Status code: {response.status_code}\")\n",
    "        print(\"Response content:\", response.text)\n",
    "        \n",
    "except Exception as e:\n",
    "    print(\"An error occurred:\", e)"
   ]
  },
  {
   "cell_type": "code",
   "execution_count": null,
   "metadata": {},
   "outputs": [],
   "source": []
  }
 ],
 "metadata": {
  "kernelspec": {
   "display_name": "venv",
   "language": "python",
   "name": "python3"
  },
  "language_info": {
   "codemirror_mode": {
    "name": "ipython",
    "version": 3
   },
   "file_extension": ".py",
   "mimetype": "text/x-python",
   "name": "python",
   "nbconvert_exporter": "python",
   "pygments_lexer": "ipython3",
   "version": "3.12.1"
  }
 },
 "nbformat": 4,
 "nbformat_minor": 2
}
